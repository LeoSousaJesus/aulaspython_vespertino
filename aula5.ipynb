{
 "cells": [
  {
   "cell_type": "markdown",
   "metadata": {},
   "source": [
    "## Revisão aula 04\n",
    "- Qual primeiro comando para iniciar novo repositório\n",
    "    - git init\n",
    "- Cria o repositório\n",
    "-\n",
    "-\n",
    "-\n",
    "-\n"
   ]
  },
  {
   "cell_type": "code",
   "execution_count": 3,
   "metadata": {},
   "outputs": [
    {
     "name": "stdout",
     "output_type": "stream",
     "text": [
      "if é verdadeiro\n",
      "finalizou o código\n"
     ]
    }
   ],
   "source": [
    "programador = True\n",
    "\n",
    "if programador:\n",
    "    print('if é verdadeiro')\n",
    "\n",
    "else:\n",
    "    print(\"if falso\")\n",
    "\n",
    "print('finalizou o código')"
   ]
  },
  {
   "cell_type": "code",
   "execution_count": 5,
   "metadata": {},
   "outputs": [
    {
     "name": "stdout",
     "output_type": "stream",
     "text": [
      "Maior de idade\n"
     ]
    }
   ],
   "source": [
    "jovem = 18\n",
    "\n",
    "if jovem >= 18:\n",
    "    print(\"Maior de idade\")\n",
    "\n",
    "else:\n",
    "    print(\"Menor de idade\")"
   ]
  },
  {
   "cell_type": "code",
   "execution_count": 12,
   "metadata": {},
   "outputs": [
    {
     "name": "stdout",
     "output_type": "stream",
     "text": [
      "Está Aprovado!\n"
     ]
    }
   ],
   "source": [
    "nota = 7\n",
    "\n",
    "if nota >= 7:\n",
    "    print(\"Está Aprovado!\")\n",
    "\n",
    "elif nota >= 5:\n",
    "    print(\"Está de Recuperação!\")\n",
    "\n",
    "else:\n",
    "    print(\"Reprovado!\")"
   ]
  },
  {
   "cell_type": "code",
   "execution_count": null,
   "metadata": {},
   "outputs": [],
   "source": []
  }
 ],
 "metadata": {
  "kernelspec": {
   "display_name": "Python 3",
   "language": "python",
   "name": "python3"
  },
  "language_info": {
   "codemirror_mode": {
    "name": "ipython",
    "version": 3
   },
   "file_extension": ".py",
   "mimetype": "text/x-python",
   "name": "python",
   "nbconvert_exporter": "python",
   "pygments_lexer": "ipython3",
   "version": "3.12.4"
  }
 },
 "nbformat": 4,
 "nbformat_minor": 2
}
