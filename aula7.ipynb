{
 "cells": [
  {
   "cell_type": "markdown",
   "metadata": {},
   "source": [
    "# IMC no laço While"
   ]
  },
  {
   "cell_type": "code",
   "execution_count": 6,
   "metadata": {},
   "outputs": [
    {
     "name": "stdout",
     "output_type": "stream",
     "text": [
      "Seu IMC: 24.2 | Situação: Peso ideal\n",
      "Finalizando...\n"
     ]
    }
   ],
   "source": [
    "while True:\n",
    "    peso = float(input(\"Digite seu peso: \").replace(\",\",\".\"))\n",
    "    altura = float(input(\"Digite sua altura: \").replace(\",\",\".\"))\n",
    "\n",
    "    imc = peso / (altura ** 2)\n",
    "\n",
    "    if imc < 17:\n",
    "        print(f\"Seu IMC: {imc:.1f} | Situação: Anorexia\")\n",
    "    elif imc < 18.5 and imc > 17:\n",
    "        print(f\"Seu IMC: {imc:.1f} | Situação: Abaixo do peso\")\n",
    "    elif imc < 25 and imc > 18.5:\n",
    "        print(f\"Seu IMC: {imc:.1f} | Situação: Peso ideal\")\n",
    "    elif imc < 30 and imc > 25:\n",
    "        print(f\"Seu IMC: {imc:.1f} | Situação: Acima do peso\")\n",
    "    elif imc < 35 and imc > 30:\n",
    "        print(f\"Seu IMC: {imc:.1f} | Situação: Obesiadade Grau I\")\n",
    "    elif imc < 40 and imc > 35:\n",
    "        print(f\"Seu IMC: {imc:.1f} | Situação: Obesidade Grau II\")\n",
    "    else:\n",
    "        print(f\"Seu IMC: {imc:.1f} | Situação: Obesidade Mórbida\")\n",
    "    \n",
    "    nova = input(\"Deseja fazer uma nova verificação? S/N\").upper()\n",
    "    \n",
    "    if nova == \"N\":\n",
    "        print(f\"Finalizando...\")\n",
    "        break"
   ]
  },
  {
   "cell_type": "markdown",
   "metadata": {},
   "source": [
    "# Bomba"
   ]
  },
  {
   "cell_type": "code",
   "execution_count": 8,
   "metadata": {},
   "outputs": [
    {
     "name": "stdout",
     "output_type": "stream",
     "text": [
      "The bomb has been planted!\n",
      "Contagem regressiva: 5...\n",
      "Contagem regressiva: 4...\n",
      "Contagem regressiva: 3...\n",
      "Contagem regressiva: 2...\n",
      "Contagem regressiva: 1...\n",
      "Contagem regressiva: 0...\n",
      "BOOOOOOOOOOOOMMMMMMMMMM\n",
      "Terrorists Win!\n"
     ]
    }
   ],
   "source": [
    "import os\n",
    "import time\n",
    "\n",
    "cont = int(input(\"Digite um número inteiro: \"))\n",
    "print(f\"The bomb has been planted!\")\n",
    "\n",
    "while cont >= 0:\n",
    "    os.system(\"cls\")\n",
    "    print(f\"Contagem regressiva: {cont}...\")\n",
    "    time.sleep(1)\n",
    "    cont -= 1\n",
    "\n",
    "os.system(\"cls\")\n",
    "print(f'BOOOOOOOOOOOOMMMMMMMMMM')\n",
    "print(f'Terrorists Win!')"
   ]
  },
  {
   "cell_type": "markdown",
   "metadata": {},
   "source": [
    "# Desafio 3 - Salas de cinema"
   ]
  },
  {
   "cell_type": "code",
   "execution_count": 9,
   "metadata": {},
   "outputs": [
    {
     "name": "stdout",
     "output_type": "stream",
     "text": [
      "Salas Disponíveis:\n",
      "Sala: 1 - Filme: Vingadores Guerra Infinita - Classificação Indicativa: 12\n",
      "Sala: 2 - Filme: Piratas do Caribe - Classificação Indicativa: 14\n",
      "Sala: 3 - Filme: Barbie - Classificação Indicativa: Livre\n",
      "Sala: 4 - Filme: Bruxa de Blair - Classificação Indicativa: 16\n",
      "Sala: 5 - Filme: Deadpool & Wolverine - Classificação Indicativa: 18\n",
      "Leo, você foi alocado na sala 1 e está apto para assistir ao filme Vingadores Guerra Infinita.\n"
     ]
    }
   ],
   "source": [
    "import os\n",
    "\n",
    "nome = input(\"Insira seu nome: \")\n",
    "idade = int(input(\"Insira sua idade: \"))\n",
    "\n",
    "salas = [{'sala': 1, 'filme':'Vingadores Guerra Infinita', 'classificacao': 12},\n",
    "          {'sala': 2, 'filme':'Piratas do Caribe', 'classificacao': 14},\n",
    "          {'sala': 3, 'filme':'Barbie', 'classificacao': 'Livre'},\n",
    "          {'sala': 4, 'filme':'Bruxa de Blair', 'classificacao': 16},\n",
    "          {'sala': 5, 'filme':'Deadpool & Wolverine', 'classificacao': 18}]\n",
    "\n",
    "print(\"Salas Disponíveis:\")\n",
    "for sala in salas:        \n",
    "    print(f\"Sala: {sala['sala']} - Filme: {sala['filme']} - Classificação Indicativa: {sala['classificacao']}\")\n",
    "\n",
    "while True:\n",
    "    escolha = int(input(\"Selecione a Sala: \"))\n",
    "    \n",
    "    sala_encontrada = next((sala for sala in salas if sala['sala'] == escolha), None)\n",
    "        \n",
    "    if sala_encontrada:\n",
    "        sala_encontrada['classificacao'] = 0 if sala_encontrada['classificacao'] == \"Livre\" else sala_encontrada['classificacao']\n",
    "        if idade >= sala_encontrada['classificacao']:\n",
    "            os.system(\"cls\")\n",
    "            print(f\"{nome}, você foi alocado na sala {escolha} e está apto para assistir ao filme {sala_encontrada['filme']}.\")\n",
    "            break\n",
    "        else:\n",
    "                print(f\"{nome}, você não tem idade suficiente para assistir ao filme {sala_encontrada['filme']}.\")\n",
    "    else:\n",
    "        print(\"Sala não encontrada! Por favor selecione uma sala disponível.\")"
   ]
  }
 ],
 "metadata": {
  "kernelspec": {
   "display_name": ".venv",
   "language": "python",
   "name": "python3"
  },
  "language_info": {
   "codemirror_mode": {
    "name": "ipython",
    "version": 3
   },
   "file_extension": ".py",
   "mimetype": "text/x-python",
   "name": "python",
   "nbconvert_exporter": "python",
   "pygments_lexer": "ipython3",
   "version": "3.12.4"
  }
 },
 "nbformat": 4,
 "nbformat_minor": 2
}
