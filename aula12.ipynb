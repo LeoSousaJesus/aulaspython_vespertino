{
 "cells": [
  {
   "cell_type": "code",
   "execution_count": 1,
   "metadata": {},
   "outputs": [
    {
     "ename": "SyntaxError",
     "evalue": "invalid syntax (773702672.py, line 33)",
     "output_type": "error",
     "traceback": [
      "\u001b[1;36m  Cell \u001b[1;32mIn[1], line 33\u001b[1;36m\u001b[0m\n\u001b[1;33m    elif opcao == '2':\u001b[0m\n\u001b[1;37m    ^\u001b[0m\n\u001b[1;31mSyntaxError\u001b[0m\u001b[1;31m:\u001b[0m invalid syntax\n"
     ]
    }
   ],
   "source": [
    "import os\n",
    "import time\n",
    "\n",
    "lista_senhas = [123456789, '987654321', '333333333', '444444444']\n",
    "lista_usuarios = ['gomes', 'oliveira', 'lucas', 'karython']\n",
    "\n",
    "\n",
    "os.system\n",
    "while True:\n",
    "    print(30*'=', 'Bem-vindo ao sistema Python cadastros', 30*'=')\n",
    "    print('1. Cadastrar usuário')\n",
    "    print('2. Consultar usuário')\n",
    "    print('3. Acessar Sistema')\n",
    "    print('4. Remover usuário')\n",
    "    print('5. Sair')\n",
    "\n",
    "opcao = input('Digite a opção desejada: ')\n",
    "\n",
    "#Opção para cadastrar novo usuário\n",
    "if opcao == '1':\n",
    "    os.system('cls')\n",
    "    novo_nome = input('Digite o nome que será cadastrado: ')\n",
    "    novo_cpf = input('Digite um CPF: ')\n",
    "\n",
    "if novo_cpf in lista_cpf:\n",
    "    print('O cpf digitado já existe')\n",
    "else:\n",
    "    lista_cpf.append(novo_cpf)\n",
    "    lista_usuarios.append(novo_nome)\n",
    "    print('Senha cadastrada com sucesso!')\n",
    "\n",
    "#Opção consultar usuários\n",
    "elif opcao == '2':\n",
    "    os.system('cls')\n",
    "    for i in lista_usuarios:\n",
    "        print(f'Usuários: {i}')\n",
    "\n",
    "#Opção para acesssar o sistema\n",
    "elif opcao == '3':\n",
    "    os.system('cls')\n",
    "    cpf_login = input('Digite um novo cpf: ')\n",
    "\n",
    "    if cpf_login in lista_cpf:\n",
    "        print('Acesso realizado com sucesso!')\n",
    "    else:\n",
    "        lista_cpf.append(novo_cpf)\n",
    "        lista_usuarios.append(novo_nome)\n",
    "        print('Usuário cadastrado com sucesso')\n",
    "\n",
    "elif opcao == '4':\n",
    "    os.system('cls')\n",
    "    cpf_remove = input('Digite o CPF a ser excluído: ')\n",
    "\n",
    "    if cpf_remove in lista_cpf:\n",
    "        indice = lista_cpf.index(cpf_remove)\n",
    "        nome = lista_usuarios.pop(indice)\n",
    "        lista_cpf.pop(indice)\n",
    "\n",
    "        print(f'Usuário: {nome} com o cpf {cpf_remove} foi removido com sucesso!')\n",
    "\n",
    "elif opcao == '5':\n",
    "    os.system('cls')\n",
    "    print('Saindo do sistema')\n",
    "    time.sleep(3)\n",
    "    break\n",
    "\n",
    "else:\n",
    "    print('Opção Inválida!')"
   ]
  }
 ],
 "metadata": {
  "kernelspec": {
   "display_name": "Python 3",
   "language": "python",
   "name": "python3"
  },
  "language_info": {
   "codemirror_mode": {
    "name": "ipython",
    "version": 3
   },
   "file_extension": ".py",
   "mimetype": "text/x-python",
   "name": "python",
   "nbconvert_exporter": "python",
   "pygments_lexer": "ipython3",
   "version": "3.12.4"
  }
 },
 "nbformat": 4,
 "nbformat_minor": 2
}
