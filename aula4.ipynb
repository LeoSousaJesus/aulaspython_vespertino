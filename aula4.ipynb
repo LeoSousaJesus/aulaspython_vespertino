{
 "cells": [
  {
   "cell_type": "markdown",
   "metadata": {},
   "source": [
    "#### Revisão Aula Python\n",
    "- teste1\n",
    "    - teste 2\n",
    "        - teste 3"
   ]
  },
  {
   "cell_type": "code",
   "execution_count": 1,
   "metadata": {},
   "outputs": [],
   "source": [
    "n1 = input(\"Digite o primeiro número: \")\n",
    "n2 = input(\"Digite o segundo número\")\n",
    "\n",
    "# Convertendo as entradas por inteiro\n",
    "n1 = int(n1)\n",
    "n2 = int(n2)\n",
    "\n",
    "divisao_inteira = n1//n2\n",
    "divisao = n1/n2\n",
    "resto = n1%n2\n",
    "expo = n1 n2\n",
    "expo = n1 - n2\n",
    "\n",
    "print(f'Divisão inteira: {divisao_inteira}')\n",
    "print(f'Divisão normal: {divisao}')\n",
    "print(f'Resto: {resto}')\n",
    "print(f'Exponenciação: {expo}')"
   ]
  },
  {
   "cell_type": "code",
   "execution_count": null,
   "metadata": {},
   "outputs": [],
   "source": [
    "# Atribuição de subtração\n",
    "valor = 10\n",
    "valor= 10\n",
    "print(f'Resultado dew atribuição de subtração {valor}')"
   ]
  },
  {
   "cell_type": "code",
   "execution_count": null,
   "metadata": {},
   "outputs": [],
   "source": [
    "# Atribuição de soma\n",
    "valor = 10"
   ]
  },
  {
   "cell_type": "code",
   "execution_count": null,
   "metadata": {},
   "outputs": [],
   "source": [
    "# Atribuição de multiplicação\n",
    "valor *= 10\n",
    "print(f'Resultado de atribuição  de multiplicação: {valor}') "
   ]
  },
  {
   "cell_type": "code",
   "execution_count": null,
   "metadata": {},
   "outputs": [],
   "source": [
    "# Atribuição de divisão\n",
    "valor /= 10"
   ]
  },
  {
   "cell_type": "markdown",
   "metadata": {},
   "source": [
    "\n",
    "## Atividade\n",
    "- Crie um programa para o boletim de notas do aluno. Guarde o nome do aluno, as notas e calcule a média final do aluno.\n",
    "- Disciplinas:\n",
    "    - Matemática\n",
    "    - Português\n",
    "    - Geografia\n",
    "    - História\n",
    "    - Física\n",
    "- Ao obter as notas e a média das notas, imprima o boletim do aluno informando as notas das matérias e com quanto ele ficou de média"
   ]
  },
  {
   "cell_type": "code",
   "execution_count": 2,
   "metadata": {},
   "outputs": [
    {
     "name": "stdout",
     "output_type": "stream",
     "text": [
      "------------------------------ BOLETIM ESCOLAR ------------------------------\n",
      "Nome do Aluno: Leo\n",
      "a nota do aluno em Matemática é: 7.0\n",
      "a nota do aluno em Português é: 8.0\n",
      "a nota do aluno em Geografia é: 5.0\n",
      "a nota do aluno em História é: 4.0\n",
      "a nota do aluno em Física é: 3.0\n",
      "A média geral do aluno foi: 5.40\n",
      "--------------------------------------------------------------------------------\n"
     ]
    }
   ],
   "source": [
    "print(30*\"-\",\"BOLETIM ESCOLAR\", 30*\"-\")\n",
    "nome  = input(\"Digite o nome do aluno: \")\n",
    "nota1 = input(\"Digite a nota de matematica: \")\n",
    "nota2 = input(\"Digita a nota de portugues: \")\n",
    "nota3 = input(\"Digite a nota de geografia: \")\n",
    "nota4 = input(\"Digite a nota de historia: \")\n",
    "nota5 = input(\"Digite a nota de fisica: \")\n",
    "\n",
    "nota1 = float(nota1)\n",
    "nota2 = float(nota2)\n",
    "nota3 = float(nota3)\n",
    "nota4 =float (nota4)\n",
    "nota5 = float(nota5)\n",
    "\n",
    "media = (nota1 + nota2 + nota3 + nota4 + nota5) /5\n",
    "\n",
    "print (f'Nome do Aluno: {nome}')\n",
    "print(f'a nota do aluno em Matemática é: {nota1}')\n",
    "print(f'a nota do aluno em Português é: {nota2}')\n",
    "print(f'a nota do aluno em Geografia é: {nota3}')\n",
    "print(f'a nota do aluno em História é: {nota4}')\n",
    "print(f'a nota do aluno em Física é: {nota5}')\n",
    "\n",
    "print(f'A média geral do aluno foi: {media:.2f}')\n",
    "print(80*\"-\")"
   ]
  }
 ],
 "metadata": {
  "kernelspec": {
   "display_name": "Python 3",
   "language": "python",
   "name": "python3"
  },
  "language_info": {
   "codemirror_mode": {
    "name": "ipython",
    "version": 3
   },
   "file_extension": ".py",
   "mimetype": "text/x-python",
   "name": "python",
   "nbconvert_exporter": "python",
   "pygments_lexer": "ipython3",
   "version": "3.12.4"
  }
 },
 "nbformat": 4,
 "nbformat_minor": 2
}
